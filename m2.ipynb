{
 "cells": [
  {
   "cell_type": "markdown",
   "metadata": {},
   "source": [
    "### Imports, defining the decorator, ..."
   ]
  },
  {
   "cell_type": "code",
   "execution_count": 5,
   "metadata": {},
   "outputs": [],
   "source": [
    "import pandas as pd\n",
    "from marquez_client import MarquezClient\n",
    "from marquez_client.models import JobType\n",
    "import os\n",
    "from openlineage.client import OpenLineageClient\n",
    "from openlineage.client.transport.file import FileConfig, FileTransport\n",
    "from openlineage.client.event_v2 import RunEvent, RunState, Run, Job, Dataset, DatasetEvent, JobEvent\n",
    "from openlineage.client.uuid import generate_new_uuid\n",
    "from datetime import datetime\n",
    "from openlineage.client.facet import NominalTimeRunFacet\n",
    "import logging\n",
    "from functools import wraps\n",
    "import numpy as np\n",
    "import pandas as pd\n",
    "from tqdm import tqdm\n",
    "import matplotlib.pyplot as plt\n",
    "# import seaborn as sns\n",
    "import plotly.express as px\n",
    "import pickle\n",
    "import re\n",
    "# import brightway2 as bw\n",
    "import bw2data as bd\n",
    "import bw2io as bi\n",
    "# import bw2calc as bc\n",
    "# import bw2analyzer as bwa\n",
    "import inspect\n",
    "import getpass\n",
    "from openlineage.client.uuid import generate_new_uuid"
   ]
  },
  {
   "cell_type": "code",
   "execution_count": 6,
   "metadata": {},
   "outputs": [
    {
     "data": {
      "text/plain": [
       "'0.9.DEV38'"
      ]
     },
     "execution_count": 6,
     "metadata": {},
     "output_type": "execute_result"
    }
   ],
   "source": [
    "bi.__version__"
   ]
  },
  {
   "cell_type": "code",
   "execution_count": 3,
   "metadata": {},
   "outputs": [],
   "source": [
    "# bi.ecoinvent.import_ecoinvent_release('3.10', 'cut-off')"
   ]
  },
  {
   "cell_type": "code",
   "execution_count": null,
   "metadata": {},
   "outputs": [],
   "source": []
  },
  {
   "cell_type": "code",
   "execution_count": 7,
   "metadata": {},
   "outputs": [],
   "source": [
    "def log_job_2(func):\n",
    "    @wraps(func)\n",
    "    def wrapper(*args, **kwargs):\n",
    "\n",
    "        if not args and not kwargs:\n",
    "            return func\n",
    "\n",
    "        transport_type = \"http\"\n",
    "\n",
    "        if transport_type == \"file\":\n",
    "            file_config = FileConfig(\n",
    "                log_file_path=\"test-lineage-file\",\n",
    "                append=True,\n",
    "            )\n",
    "            client = OpenLineageClient(transport=FileTransport(file_config))\n",
    "        elif transport_type == \"http\":\n",
    "            http_config = HttpConfig(\n",
    "                url=\"http://localhost:5000\",\n",
    "                endpoint=\"api/v1/lineage\",\n",
    "                timeout=5,\n",
    "                verify=False,\n",
    "                # auth=ApiKeyTokenProvider({\"apiKey\": \"f048521b-dfe8-47cd-9c65-0cb07d57591e\"}),\n",
    "                compression=HttpCompression.GZIP,\n",
    "            )\n",
    "            client = OpenLineageClient(transport=HttpTransport(http_config))\n",
    "        elif transport_type == \"console\":\n",
    "            # See https://openlineage.io/docs/client/python#console\n",
    "            console_config = ConsoleConfig()\n",
    "            client = OpenLineageClient(transport=ConsoleTransport(console_config))\n",
    "\n",
    "\n",
    "        description = func.__doc__\n",
    "        func_name = func.__name__\n",
    "        executor = getpass.getuser() ### will this surely run on other systems?\n",
    "\n",
    "        global last_params\n",
    "        sig = inspect.signature(func)\n",
    "        bound_args = sig.bind(*args, **kwargs)\n",
    "        bound_args.apply_defaults()\n",
    "\n",
    "        last_params = bound_args.arguments  # Store the last parameters\n",
    "        # Define the job (same for all function executions)\n",
    "        job = Job(namespace=\"my_namespace_3\", name=\"data_processing_job_3\")\n",
    "\n",
    "        run = Run(\n",
    "            runId=str(generate_new_uuid()),\n",
    "            facets={\n",
    "                \"transformation_description\": description, #BaseFacet(description=description)\n",
    "                'name' : func_name,\n",
    "                'executed by': executor,\n",
    "                'arguments': last_params\n",
    "            }  )\n",
    "\n",
    "\n",
    "        if args:\n",
    "            input_data = args[0] \n",
    "            output_data = func(*args, **kwargs)\n",
    "\n",
    "        else:\n",
    "            input_data = None \n",
    "            output_data = func(**kwargs)\n",
    "\n",
    "            \n",
    "\n",
    "        # input_dataset = Dataset(\n",
    "        #     namespace=\"my_namespace_3\",\n",
    "        #     name=input_name,\n",
    "        #     facets={} )\n",
    "\n",
    "        # output_dataset = Dataset(\n",
    "        #     namespace=\"my_namespace_3\",\n",
    "        #     name=output_name,\n",
    "        #     facets={} )\n",
    "\n",
    "        client.emit(\n",
    "            RunEvent(\n",
    "                eventType=RunState.COMPLETE,\n",
    "                eventTime=datetime.now().isoformat(),\n",
    "                run=run,\n",
    "                job=job,\n",
    "                inputs=[input_data.to_dict() if ((type(input_data)) == pd.core.frame.DataFrame) | (type(input_data)== pd.core.frame.Series) else input_data],\n",
    "                outputs=[output_data.to_dict() if ((type(output_data)) == pd.core.frame.DataFrame) | (type(output_data)== pd.core.frame.Series) else output_data],\n",
    "            )    )\n",
    "\n",
    "        return output_data\n",
    "        wrapper.__name__ = func.__name__ + \"_decorated\" ### to keep the name of the function as is\n",
    "\n",
    "    return wrapper"
   ]
  },
  {
   "cell_type": "code",
   "execution_count": 20,
   "metadata": {},
   "outputs": [],
   "source": [
    "df_1 = pd.read_csv('technosphere exchanges description.csv')"
   ]
  },
  {
   "cell_type": "code",
   "execution_count": 21,
   "metadata": {},
   "outputs": [],
   "source": [
    "@log_job_2\n",
    "def times_two(input = 154):\n",
    "    '''multiplies the input by 2'''\n",
    "    output = input * 2\n",
    "    return output"
   ]
  },
  {
   "cell_type": "code",
   "execution_count": 22,
   "metadata": {},
   "outputs": [],
   "source": [
    "df_2 = times_two(df_1)"
   ]
  },
  {
   "cell_type": "code",
   "execution_count": 19,
   "metadata": {},
   "outputs": [
    {
     "data": {
      "text/plain": [
       "('times_two', 'times_two')"
      ]
     },
     "execution_count": 19,
     "metadata": {},
     "output_type": "execute_result"
    }
   ],
   "source": [
    "# times_two().__name__ , times_two.__name__ ### WHY does this happen?--> fixed for the moment"
   ]
  },
  {
   "cell_type": "code",
   "execution_count": 20,
   "metadata": {},
   "outputs": [],
   "source": [
    "@log_job_2\n",
    "def first_forward(input):\n",
    "    '''removes the first column'''\n",
    "    if type(input) == pd.core.frame.DataFrame:\n",
    "        output = input.iloc[:, 1:]\n",
    "    return output"
   ]
  },
  {
   "cell_type": "code",
   "execution_count": 22,
   "metadata": {},
   "outputs": [],
   "source": [
    "df_3 = first_forward(df_2)"
   ]
  },
  {
   "cell_type": "code",
   "execution_count": 23,
   "metadata": {},
   "outputs": [],
   "source": [
    "os.environ['OPENLINEAGE_CONFIG'] = 'openlineage.yml'  "
   ]
  },
  {
   "cell_type": "markdown",
   "metadata": {},
   "source": [
    "### Lets apply it to ecoinvent"
   ]
  },
  {
   "cell_type": "code",
   "execution_count": 15,
   "metadata": {},
   "outputs": [
    {
     "name": "stdout",
     "output_type": "stream",
     "text": [
      "[('add_example_database', <function add_example_database at 0x0000022BBCA5F7E0>), ('backup_data_directory', <function backup_data_directory at 0x0000022B9F39A7A0>), ('backup_project_directory', <function backup_project_directory at 0x0000022B9F39A840>), ('bw2setup', <function bw2setup at 0x0000022BBF2EC720>), ('create_core_migrations', <function create_core_migrations at 0x0000022BBCA5F880>), ('create_default_biosphere3', <function create_default_biosphere3 at 0x0000022BBD55EB60>), ('create_default_lcia_methods', <function create_default_lcia_methods at 0x0000022BBCA5E200>), ('es2_activity_hash', <function es2_activity_hash at 0x0000022BBCE831A0>), ('get_csv_example_filepath', <function get_csv_example_filepath at 0x0000022B9F2D65C0>), ('get_xlsx_example_filepath', <function get_xlsx_example_filepath at 0x0000022B9F2D6700>), ('import_ecoinvent_release', <function import_ecoinvent_release at 0x0000022BBF279DA0>), ('install_project', <function install_project at 0x0000022BBCB46480>), ('keyword_to_gephi_graph', <function keyword_to_gephi_graph at 0x0000022BBDEF37E0>), ('lci_matrices_to_excel', <function lci_matrices_to_excel at 0x0000022BBCE83060>), ('lci_matrices_to_matlab', <function lci_matrices_to_matlab at 0x0000022B9F39A700>), ('load_json_data_file', <function load_json_data_file at 0x0000022BBCE83240>), ('normalize_units', <function <lambda> at 0x0000022B9F2D67A0>), ('restore_project_directory', <function restore_project_directory at 0x0000022B9F2F9B20>)]\n"
     ]
    }
   ],
   "source": [
    "from inspect import getmembers, isfunction\n",
    "\n",
    "# print(getmembers(bi, isfunction))"
   ]
  },
  {
   "cell_type": "code",
   "execution_count": 24,
   "metadata": {},
   "outputs": [
    {
     "data": {
      "text/plain": [
       "<module 'bw2io' from 'c:\\\\miniconda\\\\envs\\\\brightcon\\\\Lib\\\\site-packages\\\\bw2io\\\\__init__.py'>"
      ]
     },
     "execution_count": 24,
     "metadata": {},
     "output_type": "execute_result"
    }
   ],
   "source": [
    "import importlib\n",
    "\n",
    "importlib.reload(bi) ### in case you want to have a fresh start for bw2io\n",
    "\n",
    "# bi.SimaProLCIACSVImporter().__doc__"
   ]
  },
  {
   "cell_type": "code",
   "execution_count": 17,
   "metadata": {},
   "outputs": [],
   "source": [
    "# for name, obj in inspect.getmembers(bi):\n",
    "#     print(name), print(inspect.isfunction(obj))"
   ]
  },
  {
   "cell_type": "code",
   "execution_count": 18,
   "metadata": {},
   "outputs": [
    {
     "name": "stdout",
     "output_type": "stream",
     "text": [
      "<class 'type'>\n",
      "<slot wrapper '__delattr__' of 'object' objects>\n",
      "{'__module__': 'bw2io.importers.simapro_csv', 'format': 'SimaPro CSV', '__init__': <function SimaProCSVImporter.__init__ at 0x0000022BBCB46020>, 'get_db_name': <function SimaProCSVImporter.get_db_name at 0x0000022BBCB460C0>, 'write_database': <function SimaProCSVImporter.write_database at 0x0000022BBCB46160>, 'match_ecoinvent2': <function SimaProCSVImporter.match_ecoinvent2 at 0x0000022BBCB46200>, '__doc__': None}\n",
      "<method '__dir__' of 'object' objects>\n",
      "None\n",
      "<slot wrapper '__eq__' of 'object' objects>\n",
      "<method '__format__' of 'object' objects>\n",
      "<slot wrapper '__ge__' of 'object' objects>\n",
      "<slot wrapper '__getattribute__' of 'object' objects>\n",
      "<method '__getstate__' of 'object' objects>\n",
      "<slot wrapper '__gt__' of 'object' objects>\n",
      "<slot wrapper '__hash__' of 'object' objects>\n",
      "<function SimaProCSVImporter.__init__ at 0x0000022BBCB46020>\n",
      "<built-in method __init_subclass__ of type object at 0x0000022BBDFA0C30>\n",
      "<function ImportBase.__iter__ at 0x0000022BBCA8B1A0>\n",
      "<slot wrapper '__le__' of 'object' objects>\n",
      "<slot wrapper '__lt__' of 'object' objects>\n",
      "bw2io.importers.simapro_csv\n",
      "<slot wrapper '__ne__' of 'object' objects>\n",
      "<built-in method __new__ of type object at 0x00007FF8B32C65F0>\n",
      "<method '__reduce__' of 'object' objects>\n",
      "<method '__reduce_ex__' of 'object' objects>\n",
      "<slot wrapper '__repr__' of 'object' objects>\n",
      "<slot wrapper '__setattr__' of 'object' objects>\n",
      "<method '__sizeof__' of 'object' objects>\n",
      "<slot wrapper '__str__' of 'object' objects>\n",
      "<built-in method __subclasshook__ of type object at 0x0000022BBDFA0C30>\n",
      "<attribute '__weakref__' of 'ImportBase' objects>\n",
      "<function ImportBase._migrate_datasets at 0x0000022BBCA8B600>\n",
      "<function ImportBase._migrate_exchanges at 0x0000022BBCA8B6A0>\n",
      "<function LCIImporter._prepare_activity_parameters at 0x0000022BBCAA8680>\n",
      "<function LCIImporter._write_activity_parameters at 0x0000022BBCAA8720>\n",
      "<function LCIImporter.add_unlinked_activities at 0x0000022BBCAA8C20>\n",
      "<function LCIImporter.add_unlinked_flows_to_biosphere_database at 0x0000022BBCAA8A40>\n",
      "<property object at 0x0000022BBCAB4180>\n",
      "<function ImportBase.apply_strategies at 0x0000022BBCA8B420>\n",
      "<function ImportBase.apply_strategy at 0x0000022BBCA8B380>\n",
      "<function LCIImporter.create_new_biosphere at 0x0000022BBCAA89A0>\n",
      "None\n",
      "<function LCIImporter.drop_unlinked at 0x0000022BBCAA8B80>\n",
      "SimaPro CSV\n",
      "<function SimaProCSVImporter.get_db_name at 0x0000022BBCB460C0>\n",
      "<function LCIImporter.match_database at 0x0000022BBCAA8900>\n",
      "<function SimaProCSVImporter.match_ecoinvent2 at 0x0000022BBCB46200>\n",
      "{}\n",
      "<function LCIImporter.migrate at 0x0000022BBCAA8AE0>\n",
      "None\n",
      "<function LCIImporter.statistics at 0x0000022BBCAA84A0>\n",
      "<property object at 0x0000022BBCA8F1A0>\n",
      "<function SimaProCSVImporter.write_database at 0x0000022BBCB46160>\n",
      "<function LCIImporter.write_database_parameters at 0x0000022BBCAA85E0>\n",
      "<function LCIImporter.write_excel at 0x0000022BBCAA8860>\n",
      "<function LCIImporter.write_project_parameters at 0x0000022BBCAA8540>\n",
      "<function ImportBase.write_unlinked at 0x0000022BBCA8B560>\n"
     ]
    }
   ],
   "source": [
    "# for method_name, method in inspect.getmembers(bi.SimaProCSVImporter):\n",
    "#     print(method)"
   ]
  },
  {
   "cell_type": "code",
   "execution_count": 3,
   "metadata": {},
   "outputs": [],
   "source": [
    "import sys\n",
    "import inspect\n",
    "\n",
    "def apply_logging_to_package(package, decorator):\n",
    " \n",
    "     for name, obj in inspect.getmembers(package):\n",
    "\n",
    "        if inspect.isfunction(obj):\n",
    "\n",
    "            setattr(package, name, decorator(obj))\n",
    "\n",
    "        elif inspect.isclass(obj):\n",
    "            for method_name, method in inspect.getmembers(obj, predicate=inspect.isfunction):\n",
    "\n",
    "                setattr(obj, method_name, decorator(method))\n",
    "\n",
    "        elif inspect.ismodule(obj):\n",
    "            for method_name, method in inspect.getmembers(obj, predicate=inspect.isfunction):\n",
    "\n",
    "                setattr(obj, method_name, decorator(method))\n",
    "\n",
    "apply_logging_to_package(bi, log_job_2)"
   ]
  },
  {
   "cell_type": "code",
   "execution_count": 4,
   "metadata": {},
   "outputs": [
    {
     "name": "stdout",
     "output_type": "stream",
     "text": [
      "Restoring project backup archive - this could take a few minutes...\n"
     ]
    },
    {
     "data": {
      "text/plain": [
       "'funfunfun'"
      ]
     },
     "execution_count": 4,
     "metadata": {},
     "output_type": "execute_result"
    }
   ],
   "source": [
    "### This is just the biosphere, but perhaps itd be better to also circle back to it\n",
    "\n",
    "bi.remote.install_project(\n",
    "    project_name=\"funfunfun\",\n",
    "    project_key=\"ecoinvent-3.10-biosphere\", \n",
    "    projects_config={\"ecoinvent-3.10-biosphere\": \"ecoinvent-3.10-biosphere.bw2.tar.gz\"} )"
   ]
  },
  {
   "cell_type": "code",
   "execution_count": 3,
   "metadata": {},
   "outputs": [],
   "source": [
    "# sorted(bw.projects)"
   ]
  },
  {
   "cell_type": "code",
   "execution_count": 5,
   "metadata": {},
   "outputs": [],
   "source": [
    "bw.projects.set_current('funfunfun')"
   ]
  },
  {
   "cell_type": "code",
   "execution_count": 6,
   "metadata": {},
   "outputs": [
    {
     "data": {
      "text/plain": [
       "Databases dictionary with 1 object(s):\n",
       "\tecoinvent-3.10-biosphere"
      ]
     },
     "execution_count": 6,
     "metadata": {},
     "output_type": "execute_result"
    }
   ],
   "source": [
    "bw.databases"
   ]
  },
  {
   "cell_type": "code",
   "execution_count": 2,
   "metadata": {},
   "outputs": [
    {
     "data": {
      "text/plain": [
       "'1.26.4'"
      ]
     },
     "execution_count": 2,
     "metadata": {},
     "output_type": "execute_result"
    }
   ],
   "source": [
    "np.__version__ ### make sure its not 2.0 as theres currently incompatibility issues"
   ]
  },
  {
   "cell_type": "code",
   "execution_count": 7,
   "metadata": {},
   "outputs": [
    {
     "name": "stderr",
     "output_type": "stream",
     "text": [
      "Extracting ecospold2 files:\n",
      "0% [##############################] 100% | ETA: 00:00:00 | Item ID: fffee1f5-12b7-5\n",
      "Total time elapsed: 00:07:18\n"
     ]
    },
    {
     "name": "stdout",
     "output_type": "stream",
     "text": [
      "Title: Extracting ecospold2 files:\n",
      "  Started: 09/24/2024 17:16:12\n",
      "  Finished: 09/24/2024 17:23:30\n",
      "  Total time elapsed: 00:07:18\n",
      "  CPU %: 16.30\n",
      "  Memory %: 20.42\n",
      "Extracted 23523 datasets in 441.73 seconds\n"
     ]
    }
   ],
   "source": [
    "db_path = '/Users/Farhang Raymand/Downloads/ecoinvent 3.10_cutoff_ecoSpold02/datasets'      ### Takes 10.5 minutes\n",
    "db_name = 'ecoinvent 3.10 cutoff -  lineage'\n",
    "\n",
    "if 'ecoinvent 3.10 small -  lineage' in bw.databases:\n",
    "    print(\"Database has already been imported\")\n",
    "else:\n",
    "    ei = bi.SingleOutputEcospold2Importer(db_path, db_name)"
   ]
  },
  {
   "cell_type": "code",
   "execution_count": 8,
   "metadata": {},
   "outputs": [
    {
     "name": "stdout",
     "output_type": "stream",
     "text": [
      "Applying strategy: normalize_units\n",
      "Applying strategy: update_ecoinvent_locations\n",
      "Applying strategy: remove_zero_amount_coproducts\n",
      "Applying strategy: remove_zero_amount_inputs_with_no_activity\n",
      "Applying strategy: remove_unnamed_parameters\n",
      "Applying strategy: es2_assign_only_product_with_amount_as_reference_product\n",
      "Applying strategy: assign_single_product_as_activity\n",
      "Applying strategy: create_composite_code\n",
      "Applying strategy: drop_unspecified_subcategories\n",
      "Applying strategy: fix_ecoinvent_flows_pre35\n",
      "Applying strategy: drop_temporary_outdated_biosphere_flows\n",
      "Applying strategy: link_biosphere_by_flow_uuid\n",
      "Applying strategy: link_internal_technosphere_by_composite_code\n",
      "Applying strategy: delete_exchanges_missing_activity\n",
      "Applying strategy: delete_ghost_exchanges\n",
      "Applying strategy: remove_uncertainty_from_negative_loss_exchanges\n",
      "Applying strategy: fix_unreasonably_high_lognormal_uncertainties\n",
      "Applying strategy: convert_activity_parameters_to_list\n",
      "Applying strategy: add_cpc_classification_from_single_reference_product\n",
      "Applying strategy: delete_none_synonyms\n",
      "Applying strategy: update_social_flows_in_older_consequential\n",
      "Applying strategy: set_lognormal_loc_value\n",
      "Applied 22 strategies in 73.36 seconds\n",
      "23523 datasets\n",
      "743409 exchanges\n",
      "0 unlinked exchanges\n",
      "  \n"
     ]
    },
    {
     "name": "stderr",
     "output_type": "stream",
     "text": [
      "Writing activities to SQLite3 database:\n",
      "0% [##############################] 100% | ETA: 00:00:00\n",
      "Total time elapsed: 00:00:35\n"
     ]
    },
    {
     "name": "stdout",
     "output_type": "stream",
     "text": [
      "Title: Writing activities to SQLite3 database:\n",
      "  Started: 09/24/2024 17:25:23\n",
      "  Finished: 09/24/2024 17:25:59\n",
      "  Total time elapsed: 00:00:35\n",
      "  CPU %: 44.50\n",
      "  Memory %: 21.55\n",
      "Created database: ecoinvent 3.10 cutoff -  lineage\n"
     ]
    },
    {
     "data": {
      "text/plain": [
       "Brightway2 SQLiteBackend: ecoinvent 3.10 cutoff -  lineage"
      ]
     },
     "execution_count": 8,
     "metadata": {},
     "output_type": "execute_result"
    }
   ],
   "source": [
    "ei.apply_strategies() \n",
    "ei.statistics()\n",
    "ei.write_database()\n",
    "### Takes under 12 minutes fir the entire dataset (gives a non-descriptive error)"
   ]
  },
  {
   "cell_type": "code",
   "execution_count": 9,
   "metadata": {},
   "outputs": [
    {
     "data": {
      "text/plain": [
       "Databases dictionary with 2 object(s):\n",
       "\tecoinvent 3.10 cutoff -  lineage\n",
       "\tecoinvent-3.10-biosphere"
      ]
     },
     "execution_count": 9,
     "metadata": {},
     "output_type": "execute_result"
    }
   ],
   "source": [
    "bw.databases"
   ]
  }
 ],
 "metadata": {
  "kernelspec": {
   "display_name": "brightcon",
   "language": "python",
   "name": "python3"
  },
  "language_info": {
   "codemirror_mode": {
    "name": "ipython",
    "version": 3
   },
   "file_extension": ".py",
   "mimetype": "text/x-python",
   "name": "python",
   "nbconvert_exporter": "python",
   "pygments_lexer": "ipython3",
   "version": "3.12.6"
  }
 },
 "nbformat": 4,
 "nbformat_minor": 2
}
